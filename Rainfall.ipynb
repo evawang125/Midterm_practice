{
 "cells": [
  {
   "cell_type": "markdown",
   "id": "7306673b-4f41-46d5-88c6-b011ae5e4674",
   "metadata": {},
   "source": [
    "**Just a little rainfall data**"
   ]
  },
  {
   "cell_type": "code",
   "execution_count": 2,
   "id": "042cc367-6031-45bb-8d58-0223a8cde469",
   "metadata": {},
   "outputs": [
    {
     "name": "stderr",
     "output_type": "stream",
     "text": [
      "── \u001b[1mAttaching core tidyverse packages\u001b[22m ──────────────────────── tidyverse 2.0.0 ──\n",
      "\u001b[32m✔\u001b[39m \u001b[34mdplyr    \u001b[39m 1.1.4     \u001b[32m✔\u001b[39m \u001b[34mreadr    \u001b[39m 2.1.5\n",
      "\u001b[32m✔\u001b[39m \u001b[34mforcats  \u001b[39m 1.0.0     \u001b[32m✔\u001b[39m \u001b[34mstringr  \u001b[39m 1.5.1\n",
      "\u001b[32m✔\u001b[39m \u001b[34mggplot2  \u001b[39m 3.5.1     \u001b[32m✔\u001b[39m \u001b[34mtibble   \u001b[39m 3.2.1\n",
      "\u001b[32m✔\u001b[39m \u001b[34mlubridate\u001b[39m 1.9.3     \u001b[32m✔\u001b[39m \u001b[34mtidyr    \u001b[39m 1.3.1\n",
      "\u001b[32m✔\u001b[39m \u001b[34mpurrr    \u001b[39m 1.0.2     \n",
      "── \u001b[1mConflicts\u001b[22m ────────────────────────────────────────── tidyverse_conflicts() ──\n",
      "\u001b[31m✖\u001b[39m \u001b[34mdplyr\u001b[39m::\u001b[32mfilter()\u001b[39m masks \u001b[34mstats\u001b[39m::filter()\n",
      "\u001b[31m✖\u001b[39m \u001b[34mdplyr\u001b[39m::\u001b[32mlag()\u001b[39m    masks \u001b[34mstats\u001b[39m::lag()\n",
      "\u001b[36mℹ\u001b[39m Use the conflicted package (\u001b[3m\u001b[34m<http://conflicted.r-lib.org/>\u001b[39m\u001b[23m) to force all conflicts to become errors\n"
     ]
    }
   ],
   "source": [
    "library(tidyverse)"
   ]
  },
  {
   "cell_type": "code",
   "execution_count": 3,
   "id": "81b332aa-4bc9-48ca-850d-2cb1a51adc99",
   "metadata": {},
   "outputs": [
    {
     "data": {
      "text/html": [
       "\n",
       "<table style=\"width: 100%;\"><tr><td>reexports {dplyr}</td><td style=\"text-align: right;\">R Documentation</td></tr></table>\n",
       "\n",
       "<h2 id='reexports'>Objects exported from other packages</h2>\n",
       "\n",
       "<h3>Description</h3>\n",
       "\n",
       "<p>These objects are imported from other packages. Follow the links\n",
       "below to see their documentation.\n",
       "</p>\n",
       "\n",
       "<dl>\n",
       "<dt>magrittr</dt><dd><p><code>%&gt;%</code></p>\n",
       "</dd>\n",
       "<dt>pillar</dt><dd><p><code>type_sum</code></p>\n",
       "</dd>\n",
       "<dt>tibble</dt><dd><p><code>add_row</code>, <code>as_data_frame</code>, <code>as_tibble</code>, <code>data_frame</code>, <code>lst</code>, <code>tibble</code>, <code>tribble</code>, <code>view</code></p>\n",
       "</dd>\n",
       "<dt>tidyselect</dt><dd><p><code>all_of</code>, <code>any_of</code>, <code>contains</code>, <code>ends_with</code>, <code>everything</code>, <code>last_col</code>, <code>matches</code>, <code>num_range</code>, <code>one_of</code>, <code>starts_with</code>, <code>where</code></p>\n",
       "</dd>\n",
       "</dl>\n",
       "\n",
       "<hr /><div style=\"text-align: center;\">[Package <em>dplyr</em> version 1.1.4 ]</div>\n",
       "</div>"
      ],
      "text/latex": [
       "\\inputencoding{utf8}\n",
       "\\HeaderA{reexports}{Objects exported from other packages}{reexports}\n",
       "\\aliasA{\\%>\\%}{reexports}{.Rpcent.>.Rpcent.}\n",
       "\\aliasA{add\\_row}{reexports}{add.Rul.row}\n",
       "\\aliasA{all\\_of}{reexports}{all.Rul.of}\n",
       "\\aliasA{any\\_of}{reexports}{any.Rul.of}\n",
       "\\aliasA{as\\_data\\_frame}{reexports}{as.Rul.data.Rul.frame}\n",
       "\\aliasA{as\\_tibble}{reexports}{as.Rul.tibble}\n",
       "\\aliasA{contains}{reexports}{contains}\n",
       "\\aliasA{data\\_frame}{reexports}{data.Rul.frame}\n",
       "\\aliasA{ends\\_with}{reexports}{ends.Rul.with}\n",
       "\\aliasA{everything}{reexports}{everything}\n",
       "\\aliasA{last\\_col}{reexports}{last.Rul.col}\n",
       "\\aliasA{lst}{reexports}{lst}\n",
       "\\aliasA{matches}{reexports}{matches}\n",
       "\\aliasA{num\\_range}{reexports}{num.Rul.range}\n",
       "\\aliasA{one\\_of}{reexports}{one.Rul.of}\n",
       "\\aliasA{select\\_helpers}{reexports}{select.Rul.helpers}\n",
       "\\aliasA{starts\\_with}{reexports}{starts.Rul.with}\n",
       "\\aliasA{tibble}{reexports}{tibble}\n",
       "\\aliasA{tribble}{reexports}{tribble}\n",
       "\\aliasA{type\\_sum}{reexports}{type.Rul.sum}\n",
       "\\aliasA{view}{reexports}{view}\n",
       "\\aliasA{where}{reexports}{where}\n",
       "\\keyword{internal}{reexports}\n",
       "%\n",
       "\\begin{Description}\n",
       "These objects are imported from other packages. Follow the links\n",
       "below to see their documentation.\n",
       "\n",
       "\\begin{description}\n",
       "\n",
       "\\item[magrittr] \\code{\\LinkA{\\Rpercent{}>\\Rpercent{}}{.Rpcent.>.Rpcent.}}\n",
       "\n",
       "\\item[pillar] \\code{\\LinkA{type\\_sum}{type.Rul.sum}}\n",
       "\n",
       "\\item[tibble] \\code{\\LinkA{add\\_row}{add.Rul.row}}, \\code{\\LinkA{as\\_data\\_frame}{as.Rul.data.Rul.frame}}, \\code{\\LinkA{as\\_tibble}{as.Rul.tibble}}, \\code{\\LinkA{data\\_frame}{data.Rul.frame}}, \\code{\\LinkA{lst}{lst}}, \\code{\\LinkA{tibble}{tibble}}, \\code{\\LinkA{tribble}{tribble}}, \\code{\\LinkA{view}{view}}\n",
       "\n",
       "\\item[tidyselect] \\code{\\LinkA{all\\_of}{all.Rul.of}}, \\code{\\LinkA{any\\_of}{any.Rul.of}}, \\code{\\LinkA{contains}{contains}}, \\code{\\LinkA{ends\\_with}{ends.Rul.with}}, \\code{\\LinkA{everything}{everything}}, \\code{\\LinkA{last\\_col}{last.Rul.col}}, \\code{\\LinkA{matches}{matches}}, \\code{\\LinkA{num\\_range}{num.Rul.range}}, \\code{\\LinkA{one\\_of}{one.Rul.of}}, \\code{\\LinkA{starts\\_with}{starts.Rul.with}}, \\code{\\LinkA{where}{where}}\n",
       "\n",
       "\\end{description}\n",
       "\\end{Description}"
      ],
      "text/plain": [
       "reexports                package:dplyr                 R Documentation\n",
       "\n",
       "_\bO_\bb_\bj_\be_\bc_\bt_\bs _\be_\bx_\bp_\bo_\br_\bt_\be_\bd _\bf_\br_\bo_\bm _\bo_\bt_\bh_\be_\br _\bp_\ba_\bc_\bk_\ba_\bg_\be_\bs\n",
       "\n",
       "_\bD_\be_\bs_\bc_\br_\bi_\bp_\bt_\bi_\bo_\bn:\n",
       "\n",
       "     These objects are imported from other packages. Follow the links\n",
       "     below to see their documentation.\n",
       "\n",
       "     magrittr ‘%>%’\n",
       "\n",
       "     pillar ‘type_sum’\n",
       "\n",
       "     tibble ‘add_row’, ‘as_data_frame’, ‘as_tibble’, ‘data_frame’,\n",
       "          ‘lst’, ‘tibble’, ‘tribble’, ‘view’\n",
       "\n",
       "     tidyselect ‘all_of’, ‘any_of’, ‘contains’, ‘ends_with’,\n",
       "          ‘everything’, ‘last_col’, ‘matches’, ‘num_range’, ‘one_of’,\n",
       "          ‘starts_with’, ‘where’\n"
      ]
     },
     "metadata": {},
     "output_type": "display_data"
    }
   ],
   "source": [
    "?tibble"
   ]
  },
  {
   "cell_type": "code",
   "execution_count": null,
   "id": "2a114c13-5ed1-4396-9698-98b2437699e0",
   "metadata": {},
   "outputs": [],
   "source": []
  }
 ],
 "metadata": {
  "kernelspec": {
   "display_name": "R",
   "language": "R",
   "name": "ir"
  },
  "language_info": {
   "codemirror_mode": "r",
   "file_extension": ".r",
   "mimetype": "text/x-r-source",
   "name": "R",
   "pygments_lexer": "r",
   "version": "4.3.3"
  }
 },
 "nbformat": 4,
 "nbformat_minor": 5
}
